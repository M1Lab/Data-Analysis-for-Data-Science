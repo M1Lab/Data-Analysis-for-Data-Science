{
 "cells": [
  {
   "cell_type": "markdown",
   "metadata": {},
   "source": [
    "## Numpy"
   ]
  },
  {
   "cell_type": "markdown",
   "metadata": {},
   "source": [
    "Numpy 是 Python 中用于科学计算的基本包。 它是一个 Python 库，提供多维数组对象、各种派生对象(如屏蔽数组和矩阵) ，以及用于数组快速操作的各种例程，包括数学、逻辑、形状操作、排序、选择、 i/o、离散傅立叶变换、基本线性代数、基本统计操作、随机模拟等等。"
   ]
  },
  {
   "cell_type": "markdown",
   "metadata": {},
   "source": [
    "### 版本"
   ]
  },
  {
   "cell_type": "code",
   "execution_count": 1,
   "metadata": {
    "ExecuteTime": {
     "end_time": "2019-01-25T02:33:44.505887Z",
     "start_time": "2019-01-25T02:33:44.161524Z"
    },
    "inputHidden": false,
    "outputHidden": false
   },
   "outputs": [
    {
     "data": {
      "text/plain": [
       "'1.15.4'"
      ]
     },
     "execution_count": 1,
     "metadata": {},
     "output_type": "execute_result"
    }
   ],
   "source": [
    "import numpy\n",
    "numpy.__version__"
   ]
  },
  {
   "cell_type": "markdown",
   "metadata": {},
   "source": [
    "### 别名\n",
    "遵循传统，使用`np`作为别名导入 NumPy ："
   ]
  },
  {
   "cell_type": "code",
   "execution_count": 2,
   "metadata": {
    "ExecuteTime": {
     "end_time": "2019-01-25T02:33:44.517856Z",
     "start_time": "2019-01-25T02:33:44.509875Z"
    },
    "inputHidden": false,
    "outputHidden": false
   },
   "outputs": [],
   "source": [
    "import numpy as np"
   ]
  },
  {
   "cell_type": "markdown",
   "metadata": {},
   "source": [
    "### 数组\n",
    "\n",
    "Numpy 包的核心是`ndarray`对象，封装了同类数据类型的 n 维数组，通常用别名`array`来表示。"
   ]
  },
  {
   "cell_type": "markdown",
   "metadata": {},
   "source": [
    "#### 属性\n",
    "\n",
    "每个`Numpy`数组都拥有如下属性：\n",
    "\n",
    "- `nidm`：数组维度\n",
    "- `shape`：维度大小\n",
    "- `size`：数组大小\n",
    "- `dtype`：数据类型\n",
    "- `itemsize`：元素字节大小, 以`bytes`为单位\n",
    "- `nbytes`：数组字节大小, 以`bytes`为单位"
   ]
  },
  {
   "cell_type": "code",
   "execution_count": 3,
   "metadata": {
    "ExecuteTime": {
     "end_time": "2019-01-25T02:33:44.543783Z",
     "start_time": "2019-01-25T02:33:44.519848Z"
    },
    "inputHidden": false,
    "outputHidden": false
   },
   "outputs": [
    {
     "name": "stdout",
     "output_type": "stream",
     "text": [
      "[[3 4 9]\n",
      " [0 0 6]\n",
      " [4 4 3]]\n",
      "\n",
      "x.ndim: 2\n",
      "x.shape: (3, 3)\n",
      "x.size: 9\n",
      "x.dtype: int32\n",
      "x.itemsize: 4\n",
      "x.nbytes: 36\n"
     ]
    }
   ],
   "source": [
    "# 创建一个3×3、由[0,10)均匀分布随机整数组成的数值\n",
    "x = (np.random.randint(0, 10, (3, 3)))\n",
    "print(x)\n",
    "print('\\nx.ndim:',x.ndim)\n",
    "print('x.shape:',x.shape)\n",
    "print('x.size:',x.size)\n",
    "print('x.dtype:',x.dtype)\n",
    "print('x.itemsize:',x.itemsize)\n",
    "print('x.nbytes:',x.nbytes)"
   ]
  },
  {
   "cell_type": "markdown",
   "metadata": {},
   "source": [
    "#### 利用列表(list)生成数组\n",
    "\n",
    "利用```nd.array```从 Pyhon 列表创建数值:"
   ]
  },
  {
   "cell_type": "code",
   "execution_count": 4,
   "metadata": {
    "ExecuteTime": {
     "end_time": "2019-01-25T02:33:44.562734Z",
     "start_time": "2019-01-25T02:33:44.550764Z"
    },
    "inputHidden": false,
    "outputHidden": false
   },
   "outputs": [
    {
     "data": {
      "text/plain": [
       "array([1, 2, 3, 4])"
      ]
     },
     "execution_count": 4,
     "metadata": {},
     "output_type": "execute_result"
    }
   ],
   "source": [
    "x = np.array([1,2,3,4])\n",
    "x"
   ]
  },
  {
   "cell_type": "markdown",
   "metadata": {},
   "source": [
    "不同于 Python 列表， Numpy 要求数组必须包含同一类型的数据。如果类型不匹配，NumPy 将会向上转换（如果可行）。"
   ]
  },
  {
   "cell_type": "code",
   "execution_count": 5,
   "metadata": {
    "ExecuteTime": {
     "end_time": "2019-01-25T02:33:44.580686Z",
     "start_time": "2019-01-25T02:33:44.569714Z"
    },
    "inputHidden": false,
    "outputHidden": false
   },
   "outputs": [
    {
     "data": {
      "text/plain": [
       "array([1., 2., 3., 4.])"
      ]
     },
     "execution_count": 5,
     "metadata": {},
     "output_type": "execute_result"
    }
   ],
   "source": [
    "x = np.array([1.0, 2, 3.0, 4])\n",
    "x"
   ]
  },
  {
   "cell_type": "markdown",
   "metadata": {},
   "source": [
    "如果希望明确设置数组的数据类型，可以用```dtype```变量："
   ]
  },
  {
   "cell_type": "code",
   "execution_count": 6,
   "metadata": {
    "ExecuteTime": {
     "end_time": "2019-01-25T02:33:44.595650Z",
     "start_time": "2019-01-25T02:33:44.583678Z"
    },
    "inputHidden": false,
    "outputHidden": false
   },
   "outputs": [
    {
     "data": {
      "text/plain": [
       "array([1., 2., 3., 4.], dtype=float32)"
      ]
     },
     "execution_count": 6,
     "metadata": {},
     "output_type": "execute_result"
    }
   ],
   "source": [
    "x = np.array([1, 2, 3, 4], dtype=np.float32)\n",
    "x"
   ]
  },
  {
   "cell_type": "markdown",
   "metadata": {},
   "source": [
    "构建多维数组："
   ]
  },
  {
   "cell_type": "code",
   "execution_count": 7,
   "metadata": {
    "ExecuteTime": {
     "end_time": "2019-01-25T02:33:44.610606Z",
     "start_time": "2019-01-25T02:33:44.598638Z"
    },
    "inputHidden": false,
    "outputHidden": false
   },
   "outputs": [
    {
     "data": {
      "text/plain": [
       "array([[1, 2, 3],\n",
       "       [4, 5, 6],\n",
       "       [7, 8, 9]])"
      ]
     },
     "execution_count": 7,
     "metadata": {},
     "output_type": "execute_result"
    }
   ],
   "source": [
    "x = np.array([[1, 2, 3], [4, 5, 6], [7, 8, 9]])\n",
    "x"
   ]
  },
  {
   "cell_type": "markdown",
   "metadata": {},
   "source": [
    "#### 利用```Numpy```内置方法创建数值\n",
    "\n",
    "`np.zeros()`:创建全 0 数值"
   ]
  },
  {
   "cell_type": "code",
   "execution_count": 8,
   "metadata": {
    "ExecuteTime": {
     "end_time": "2019-01-25T02:33:44.633544Z",
     "start_time": "2019-01-25T02:33:44.617587Z"
    },
    "inputHidden": false,
    "outputHidden": false
   },
   "outputs": [
    {
     "data": {
      "text/plain": [
       "array([0., 0., 0., 0., 0.])"
      ]
     },
     "execution_count": 8,
     "metadata": {},
     "output_type": "execute_result"
    }
   ],
   "source": [
    "# 创建一个长度为5的全0数组\n",
    "x = np.zeros(5)\n",
    "x"
   ]
  },
  {
   "cell_type": "markdown",
   "metadata": {},
   "source": [
    "`np.ones()`:创建全 1 数组"
   ]
  },
  {
   "cell_type": "code",
   "execution_count": 9,
   "metadata": {
    "ExecuteTime": {
     "end_time": "2019-01-25T02:33:44.648518Z",
     "start_time": "2019-01-25T02:33:44.638530Z"
    },
    "inputHidden": false,
    "outputHidden": false
   },
   "outputs": [
    {
     "data": {
      "text/plain": [
       "array([[1., 1., 1.],\n",
       "       [1., 1., 1.],\n",
       "       [1., 1., 1.]])"
      ]
     },
     "execution_count": 9,
     "metadata": {},
     "output_type": "execute_result"
    }
   ],
   "source": [
    "# 创建一个3*3的q全1矩阵\n",
    "x = np.ones((3,3), dtype=float)\n",
    "x"
   ]
  },
  {
   "cell_type": "markdown",
   "metadata": {},
   "source": [
    "`np.eye()`:创建一个单位矩阵"
   ]
  },
  {
   "cell_type": "code",
   "execution_count": 10,
   "metadata": {
    "ExecuteTime": {
     "end_time": "2019-01-25T02:33:44.662466Z",
     "start_time": "2019-01-25T02:33:44.651496Z"
    },
    "inputHidden": false,
    "outputHidden": false
   },
   "outputs": [
    {
     "data": {
      "text/plain": [
       "array([[1., 0., 0.],\n",
       "       [0., 1., 0.],\n",
       "       [0., 0., 1.]])"
      ]
     },
     "execution_count": 10,
     "metadata": {},
     "output_type": "execute_result"
    }
   ],
   "source": [
    "# 创建一个3*3的单位矩阵\n",
    "x = np.eye(3)\n",
    "x"
   ]
  },
  {
   "cell_type": "markdown",
   "metadata": {},
   "source": [
    "`np.full(shape, fill_value)`：创建一个维数为`shape`、值为`fill_value`的数组"
   ]
  },
  {
   "cell_type": "code",
   "execution_count": 11,
   "metadata": {
    "ExecuteTime": {
     "end_time": "2019-01-25T02:33:44.679439Z",
     "start_time": "2019-01-25T02:33:44.665458Z"
    },
    "inputHidden": false,
    "outputHidden": false
   },
   "outputs": [
    {
     "data": {
      "text/plain": [
       "array([[2., 2., 2.],\n",
       "       [2., 2., 2.],\n",
       "       [2., 2., 2.]])"
      ]
     },
     "execution_count": 11,
     "metadata": {},
     "output_type": "execute_result"
    }
   ],
   "source": [
    "# 创建一个维数为3*3、值为2.0的浮点数型数组\n",
    "x = np.full((3,3), fill_value=2.0)\n",
    "x"
   ]
  },
  {
   "cell_type": "markdown",
   "metadata": {},
   "source": [
    "序列数组：\n",
    "\n",
    "- `np.arange(start, stop, step)`：创建一个从`start`到`stop`,步长为`step`的序列数组。\n",
    "- `np.linspace(start, stop, num=50)`：创建一个从`start`到`stop`,元素个数为`num`的序列数组。"
   ]
  },
  {
   "cell_type": "code",
   "execution_count": 12,
   "metadata": {
    "ExecuteTime": {
     "end_time": "2019-01-25T02:33:44.694380Z",
     "start_time": "2019-01-25T02:33:44.682414Z"
    },
    "inputHidden": false,
    "outputHidden": false
   },
   "outputs": [
    {
     "data": {
      "text/plain": [
       "array([0, 2, 4, 6, 8])"
      ]
     },
     "execution_count": 12,
     "metadata": {},
     "output_type": "execute_result"
    }
   ],
   "source": [
    "# 创建一个从0到10,步长为2的序列数组\n",
    "x = np.arange(0, 10, 2)\n",
    "x"
   ]
  },
  {
   "cell_type": "code",
   "execution_count": 13,
   "metadata": {
    "ExecuteTime": {
     "end_time": "2019-01-25T02:33:44.710849Z",
     "start_time": "2019-01-25T02:33:44.698370Z"
    },
    "inputHidden": false,
    "outputHidden": false
   },
   "outputs": [
    {
     "data": {
      "text/plain": [
       "array([ 0. ,  2.5,  5. ,  7.5, 10. ])"
      ]
     },
     "execution_count": 13,
     "metadata": {},
     "output_type": "execute_result"
    }
   ],
   "source": [
    "# 创建一个从0到10,元素个数为5的序列数组\n",
    "x = np.linspace(0, 10, 5)\n",
    "x"
   ]
  },
  {
   "cell_type": "markdown",
   "metadata": {},
   "source": [
    "随机分布数组：\n",
    "\n",
    "- `np.random.random()`：创建一个由 0 ~ 1 均匀分布生成的随机数组成的数组\n",
    "- `np.random.normal(loc=0.0, scale=1.0, size=None)`：创建一个由均值为`loc`、方差为`scale`的正态分布生成的随机数组成的数组\n",
    "- `np.random.randint(low, high=None, size=None)`：创建一个由`low`~`high`均匀分布生成的随机整数组成的数值"
   ]
  },
  {
   "cell_type": "code",
   "execution_count": 14,
   "metadata": {
    "ExecuteTime": {
     "end_time": "2019-01-25T02:33:44.728802Z",
     "start_time": "2019-01-25T02:33:44.715834Z"
    },
    "inputHidden": false,
    "outputHidden": false
   },
   "outputs": [
    {
     "data": {
      "text/plain": [
       "array([[0.36002842, 0.08519123, 0.4640263 ],\n",
       "       [0.54155948, 0.43645734, 0.44322506],\n",
       "       [0.30741928, 0.2057965 , 0.21929336]])"
      ]
     },
     "execution_count": 14,
     "metadata": {},
     "output_type": "execute_result"
    }
   ],
   "source": [
    "# 创建一个3×3、由0~1均匀分布随机数组成的数组\n",
    "x = np.random.random((3, 3))\n",
    "x"
   ]
  },
  {
   "cell_type": "code",
   "execution_count": 15,
   "metadata": {
    "ExecuteTime": {
     "end_time": "2019-01-25T02:33:44.745755Z",
     "start_time": "2019-01-25T02:33:44.732791Z"
    },
    "inputHidden": false,
    "outputHidden": false
   },
   "outputs": [
    {
     "data": {
      "text/plain": [
       "array([[-0.35800332, -0.36553495, -0.62851015],\n",
       "       [-2.01214244,  0.42221338,  0.25461076],\n",
       "       [ 0.64228871,  0.28348644,  0.69593449]])"
      ]
     },
     "execution_count": 15,
     "metadata": {},
     "output_type": "execute_result"
    }
   ],
   "source": [
    "# 创建一个3×3、由均值为0、方差为1的正态分布随机数组成的数组\n",
    "x = np.random.normal(0, 1, (3, 3))\n",
    "x"
   ]
  },
  {
   "cell_type": "code",
   "execution_count": 16,
   "metadata": {
    "ExecuteTime": {
     "end_time": "2019-01-25T02:33:44.768693Z",
     "start_time": "2019-01-25T02:33:44.748747Z"
    },
    "inputHidden": false,
    "outputHidden": false
   },
   "outputs": [
    {
     "data": {
      "text/plain": [
       "array([[3, 6, 0],\n",
       "       [3, 2, 3],\n",
       "       [0, 9, 2]])"
      ]
     },
     "execution_count": 16,
     "metadata": {},
     "output_type": "execute_result"
    }
   ],
   "source": [
    "# 创建一个3×3、由[0,10)均匀分布随机整数组成的数值\n",
    "x = (np.random.randint(0, 10, (3, 3)))\n",
    "x"
   ]
  },
  {
   "cell_type": "markdown",
   "metadata": {},
   "source": [
    "### 数组操作\n",
    "\n",
    "#### 基本运算\n",
    "\n",
    "数组上的运算与 Python 类似，支持 Python 原生的算术运算符，标准的加、减、乘、除都可以使用。"
   ]
  },
  {
   "cell_type": "code",
   "execution_count": 17,
   "metadata": {
    "ExecuteTime": {
     "end_time": "2019-01-25T02:33:44.787643Z",
     "start_time": "2019-01-25T02:33:44.771685Z"
    },
    "inputHidden": false,
    "outputHidden": false
   },
   "outputs": [
    {
     "name": "stdout",
     "output_type": "stream",
     "text": [
      "x = [0 1 2 3]\n",
      "x + 5 = [5 6 7 8]\n",
      "x * 2 = [0 2 4 6]\n",
      "x / 2 = [0.  0.5 1.  1.5]\n",
      "x // 2 = [0 0 1 1]\n",
      "-x =  [ 0 -1 -2 -3]\n",
      "x ** 2 =  [0 1 4 9]\n",
      "x % 2 =  [0 1 0 1]\n"
     ]
    }
   ],
   "source": [
    "x = np.arange(4)\n",
    "print(\"x =\", x)\n",
    "print(\"x + 5 =\", x + 5)\n",
    "print(\"x * 2 =\", x * 2)\n",
    "print(\"x / 2 =\", x / 2)\n",
    "print(\"x // 2 =\", x // 2)\n",
    "print(\"-x = \", -x)\n",
    "print(\"x ** 2 = \", x ** 2)\n",
    "print(\"x % 2 = \", x % 2)"
   ]
  },
  {
   "cell_type": "markdown",
   "metadata": {},
   "source": [
    "运算符与通用函数的对应关系如下表所示：\n",
    "\n",
    "| 运算符 | 对应的通用函数  |        描述        |\n",
    "| :----: | :-------------: | :----------------: |\n",
    "|+    |     np.add      |      加法运算      |\n",
    "|-    |   np.subtract   |      减法运算      |\n",
    "|-    |   np.negative   |      负数运算      |\n",
    "|   *    |   np.multipy    |      乘法运算      |\n",
    "|   /    |    np.divide    |      除法运算      |\n",
    "|   //   | np.floor_divide |    取商除法运算    |\n",
    "|   **   |    np.power     |      指数运算      |\n",
    "|   &    |     np.mod      | 取模(余数)除法运算 |"
   ]
  },
  {
   "cell_type": "markdown",
   "metadata": {},
   "source": [
    "与许多矩阵语言不同，乘法运算符`*`在 Numpy 数组中按元素操作，矩阵运算可以使用`@`操作符(在 python 3.5中)或`dot`函数执行。"
   ]
  },
  {
   "cell_type": "code",
   "execution_count": 18,
   "metadata": {
    "ExecuteTime": {
     "end_time": "2019-01-25T02:33:44.821067Z",
     "start_time": "2019-01-25T02:33:44.804166Z"
    }
   },
   "outputs": [
    {
     "name": "stdout",
     "output_type": "stream",
     "text": [
      "A * B =\n",
      " [[2 0]\n",
      " [0 4]]\n",
      "\n",
      "A @ B =\n",
      " [[5 4]\n",
      " [3 4]]\n",
      "\n",
      "A.dot(B) =\n",
      " [[5 4]\n",
      " [3 4]]\n"
     ]
    }
   ],
   "source": [
    "A = np.array( [[1,1],\n",
    "            [0,1]] )\n",
    "B = np.array( [[2,0],\n",
    "            [3,4]] )\n",
    "# 元素操作\n",
    "print('A * B =\\n',A * B)\n",
    "\n",
    "# 矩阵运算\n",
    "print('\\nA @ B =\\n',A @ B)\n",
    "\n",
    "# 另一种矩阵运算\n",
    "print('\\nA.dot(B) =\\n', A.dot(B))"
   ]
  },
  {
   "cell_type": "markdown",
   "metadata": {},
   "source": [
    "#### 索引与切片"
   ]
  },
  {
   "cell_type": "code",
   "execution_count": 19,
   "metadata": {
    "ExecuteTime": {
     "end_time": "2019-01-25T02:33:44.836031Z",
     "start_time": "2019-01-25T02:33:44.825058Z"
    },
    "inputHidden": false,
    "outputHidden": false
   },
   "outputs": [
    {
     "name": "stdout",
     "output_type": "stream",
     "text": [
      "[[5 0 5]\n",
      " [1 9 6]\n",
      " [1 5 1]]\n",
      "\n",
      "x[1,1] = 9\n",
      "x[1:,1:] =\n",
      " [[9 6]\n",
      " [5 1]]\n"
     ]
    }
   ],
   "source": [
    "# 创建一个3×3、由[0,10)均匀分布随机整数组成的数值\n",
    "x = (np.random.randint(0, 10, (3, 3)))\n",
    "print(x)\n",
    "\n",
    "# 索引\n",
    "print('\\nx[1,1] =',x[1,1])\n",
    "\n",
    "# 切片\n",
    "print('x[1:,1:] =\\n',x[1:,1:])"
   ]
  },
  {
   "cell_type": "markdown",
   "metadata": {},
   "source": [
    "#### 排序\n",
    "\n",
    "- np.sort(a,  axis=1)：`a`表示要排序的数值，`axis=0`表示按列排序(`axis=1`表示按行排序)"
   ]
  },
  {
   "cell_type": "code",
   "execution_count": 20,
   "metadata": {
    "ExecuteTime": {
     "end_time": "2019-01-25T02:33:44.850988Z",
     "start_time": "2019-01-25T02:33:44.840017Z"
    },
    "inputHidden": false,
    "outputHidden": false
   },
   "outputs": [
    {
     "name": "stdout",
     "output_type": "stream",
     "text": [
      "x =\n",
      " [[7 9 6 2 1 2]\n",
      " [9 3 4 5 8 7]\n",
      " [4 6 8 1 6 7]\n",
      " [5 7 8 6 1 2]]\n",
      "\n",
      "np.sort(x, axis=0) =\n",
      " [[4 3 4 1 1 2]\n",
      " [5 6 6 2 1 2]\n",
      " [7 7 8 5 6 7]\n",
      " [9 9 8 6 8 7]]\n",
      "\n",
      "np.sort(x, axis=1) =\n",
      " [[1 2 2 6 7 9]\n",
      " [3 4 5 7 8 9]\n",
      " [1 4 6 6 7 8]\n",
      " [1 2 5 6 7 8]]\n"
     ]
    }
   ],
   "source": [
    "# 创建一个4×6、由[0,10)均匀分布随机整数组成的数值\n",
    "x = (np.random.randint(0, 10, (4, 6)))\n",
    "print('x =\\n',x)\n",
    "\n",
    "# 按列排序\n",
    "print('\\nnp.sort(x, axis=0) =\\n',np.sort(x, axis=0))\n",
    "\n",
    "# 按列排序\n",
    "print('\\nnp.sort(x, axis=1) =\\n',np.sort(x, axis=1))"
   ]
  },
  {
   "cell_type": "markdown",
   "metadata": {},
   "source": [
    "#### 变形\n",
    "\n",
    "- ```reshape()```方法"
   ]
  },
  {
   "cell_type": "code",
   "execution_count": 21,
   "metadata": {
    "ExecuteTime": {
     "end_time": "2019-01-25T02:33:44.864951Z",
     "start_time": "2019-01-25T02:33:44.853981Z"
    },
    "inputHidden": false,
    "outputHidden": false
   },
   "outputs": [
    {
     "name": "stdout",
     "output_type": "stream",
     "text": [
      "x =\n",
      " [[9 3 5]\n",
      " [8 7 7]\n",
      " [2 7 2]]\n",
      "\n",
      "通过变形获得的行向量:\n",
      " [[9 3 5 8 7 7 2 7 2]]\n",
      "通过变形获得的列向量:\n",
      " [[9]\n",
      " [3]\n",
      " [5]\n",
      " [8]\n",
      " [7]\n",
      " [7]\n",
      " [2]\n",
      " [7]\n",
      " [2]]\n"
     ]
    }
   ],
   "source": [
    "# 创建一个3×3、由[0,10)均匀分布随机整数组成的数值\n",
    "x = (np.random.randint(0, 10, (3, 3)))\n",
    "print('x =\\n',x)\n",
    "print('\\n通过变形获得的行向量:\\n', x.reshape((1, 9)))\n",
    "print('通过变形获得的列向量:\\n', x.reshape((9, 1)))"
   ]
  },
  {
   "cell_type": "markdown",
   "metadata": {},
   "source": [
    "\n",
    "#### 转置"
   ]
  },
  {
   "cell_type": "code",
   "execution_count": 22,
   "metadata": {
    "ExecuteTime": {
     "end_time": "2019-01-25T02:33:44.879912Z",
     "start_time": "2019-01-25T02:33:44.866947Z"
    },
    "inputHidden": false,
    "outputHidden": false
   },
   "outputs": [
    {
     "name": "stdout",
     "output_type": "stream",
     "text": [
      "x =\n",
      " [[0 4 0]\n",
      " [5 8 6]]\n",
      "\n",
      "x.T =\n",
      " [[0 5]\n",
      " [4 8]\n",
      " [0 6]]\n"
     ]
    }
   ],
   "source": [
    "x = (np.random.randint(0, 10, (2, 3)))\n",
    "print('x =\\n',x)\n",
    "print('\\nx.T =\\n',x.T)"
   ]
  },
  {
   "cell_type": "markdown",
   "metadata": {},
   "source": [
    "#### 拼接\n",
    "\n",
    "- ```np.concatenate((a1, a2, ...), axis=0)```：按垂直(水平`axis=1`)拼接数组元组`(a1, a2, ...)`或数值列表`[a1, a2, ...]`\n",
    "- ```np.vstack((a1, a2, ...))```：按垂直方向拼接数组元组`(a1, a2, ...)`或数值列表`[a1, a2, ...]`\n",
    "- ```np.hstack((a1, a2, ...))```：按水平方向拼接数组元组`(a1, a2, ...)`或数值列表`[a1, a2, ...]`"
   ]
  },
  {
   "cell_type": "code",
   "execution_count": 23,
   "metadata": {
    "ExecuteTime": {
     "end_time": "2019-01-25T02:33:44.892878Z",
     "start_time": "2019-01-25T02:33:44.883900Z"
    },
    "inputHidden": false,
    "outputHidden": false
   },
   "outputs": [
    {
     "data": {
      "text/plain": [
       "array([[1, 2, 3, 4],\n",
       "       [1, 2, 3, 4]])"
      ]
     },
     "execution_count": 23,
     "metadata": {},
     "output_type": "execute_result"
    }
   ],
   "source": [
    "x = np.array([[1,2,3,4],\n",
    "                  [1,2,3,4]])\n",
    "x"
   ]
  },
  {
   "cell_type": "code",
   "execution_count": 24,
   "metadata": {
    "ExecuteTime": {
     "end_time": "2019-01-25T02:33:44.906839Z",
     "start_time": "2019-01-25T02:33:44.895869Z"
    },
    "inputHidden": false,
    "outputHidden": false
   },
   "outputs": [
    {
     "name": "stdout",
     "output_type": "stream",
     "text": [
      "通过np.concatenate()方法拼接:\n",
      " [[1 2 3 4]\n",
      " [1 2 3 4]\n",
      " [1 2 3 4]\n",
      " [1 2 3 4]]\n",
      "通过np.vstack()方法拼接:\n",
      " [[1 2 3 4]\n",
      " [1 2 3 4]\n",
      " [1 2 3 4]\n",
      " [1 2 3 4]]\n"
     ]
    }
   ],
   "source": [
    "# 按垂直方向拼接数组x和x\n",
    "print('通过np.concatenate()方法拼接:\\n',np.concatenate((x,x)))\n",
    "print('通过np.vstack()方法拼接:\\n',np.vstack((x,x)))"
   ]
  },
  {
   "cell_type": "code",
   "execution_count": 25,
   "metadata": {
    "ExecuteTime": {
     "end_time": "2019-01-25T02:33:44.918809Z",
     "start_time": "2019-01-25T02:33:44.909833Z"
    },
    "inputHidden": false,
    "outputHidden": false
   },
   "outputs": [
    {
     "name": "stdout",
     "output_type": "stream",
     "text": [
      "通过np.concatenate()方法拼接:\n",
      " [[1 2 3 4 1 2 3 4]\n",
      " [1 2 3 4 1 2 3 4]]\n",
      "通过np.vstack()方法拼接:\n",
      " [[1 2 3 4 1 2 3 4]\n",
      " [1 2 3 4 1 2 3 4]]\n"
     ]
    }
   ],
   "source": [
    "# 按水平方向拼接数值x和x\n",
    "print('通过np.concatenate()方法拼接:\\n',np.concatenate((x,x),axis=1))\n",
    "print('通过np.vstack()方法拼接:\\n',np.hstack((x,x)))"
   ]
  },
  {
   "cell_type": "markdown",
   "metadata": {},
   "source": [
    "#### 拆分\n",
    "\n",
    "- `np.split(ary, indices_or_sections, axis=0)`：`ary`为要拆分的数值，`indices_or_sections`为拆分节点序列，`axis=0`表示按竖直方向拆分(`axis=1`表示按竖直方向拆分)\n",
    "- `np.hsplit()`：按水平方向拆分\n",
    "- `np.vsplit()`：按竖直方向拆分"
   ]
  },
  {
   "cell_type": "markdown",
   "metadata": {},
   "source": [
    "一维数组："
   ]
  },
  {
   "cell_type": "code",
   "execution_count": 26,
   "metadata": {
    "ExecuteTime": {
     "end_time": "2019-01-25T02:33:44.933768Z",
     "start_time": "2019-01-25T02:33:44.921800Z"
    },
    "inputHidden": false,
    "outputHidden": false
   },
   "outputs": [
    {
     "name": "stdout",
     "output_type": "stream",
     "text": [
      "[0 1 2 3 4 5 6 7 8]\n",
      "[array([0, 1, 2]), array([3, 4, 5]), array([6, 7, 8])]\n",
      "[array([0, 1]), array([2, 3, 4]), array([5, 6]), array([7, 8])]\n"
     ]
    }
   ],
   "source": [
    "x = np.arange(9)\n",
    "print(x)\n",
    "print(np.split(x,3))\n",
    "print(np.split(x,[2,5,7]))"
   ]
  },
  {
   "cell_type": "markdown",
   "metadata": {},
   "source": [
    "二维数组："
   ]
  },
  {
   "cell_type": "code",
   "execution_count": 27,
   "metadata": {
    "ExecuteTime": {
     "end_time": "2019-01-25T02:33:44.943740Z",
     "start_time": "2019-01-25T02:33:44.936759Z"
    },
    "inputHidden": false,
    "outputHidden": false
   },
   "outputs": [
    {
     "name": "stdout",
     "output_type": "stream",
     "text": [
      "通过np.split()方法拆分:\n",
      " [array([[3, 4, 1]]), array([[9, 7, 0]]), array([[0, 0, 8]])]\n",
      "通过np.hsplit()方法拆分:\n",
      " [array([[3, 4, 1]]), array([[9, 7, 0]]), array([[0, 0, 8]])]\n"
     ]
    }
   ],
   "source": [
    "# 按竖直方向拆分\n",
    "y = (np.random.randint(0, 10, (3, 3)))\n",
    "print('通过np.split()方法拆分:\\n',np.split(y, 3))\n",
    "print('通过np.hsplit()方法拆分:\\n',np.vsplit(y, 3))"
   ]
  },
  {
   "cell_type": "code",
   "execution_count": 28,
   "metadata": {
    "ExecuteTime": {
     "end_time": "2019-01-25T02:33:44.956705Z",
     "start_time": "2019-01-25T02:33:44.946732Z"
    },
    "inputHidden": false,
    "outputHidden": false
   },
   "outputs": [
    {
     "name": "stdout",
     "output_type": "stream",
     "text": [
      "通过np.split()方法拆分:\n",
      " [array([[3],\n",
      "       [9],\n",
      "       [0]]), array([[4],\n",
      "       [7],\n",
      "       [0]]), array([[1],\n",
      "       [0],\n",
      "       [8]])]\n",
      "通过np.hsplit()方法拆分:\n",
      " [array([[3],\n",
      "       [9],\n",
      "       [0]]), array([[4],\n",
      "       [7],\n",
      "       [0]]), array([[1],\n",
      "       [0],\n",
      "       [8]])]\n"
     ]
    }
   ],
   "source": [
    "# 按水平方向拆分\n",
    "print('通过np.split()方法拆分:\\n',np.split(y, 3, axis=1))\n",
    "print('通过np.hsplit()方法拆分:\\n',np.hsplit(y, 3))"
   ]
  },
  {
   "cell_type": "markdown",
   "metadata": {},
   "source": [
    "### 通用函数\n",
    "\n",
    "Numpy 提供熟悉的数学函数，例如`sin`，`cos`和`exp`等，在 NumPy 中，这些被称为“通用函数”（`ufunc`）。"
   ]
  },
  {
   "cell_type": "code",
   "execution_count": 29,
   "metadata": {
    "ExecuteTime": {
     "end_time": "2019-01-25T02:33:44.975655Z",
     "start_time": "2019-01-25T02:33:44.959698Z"
    },
    "inputHidden": false,
    "outputHidden": false
   },
   "outputs": [
    {
     "name": "stdout",
     "output_type": "stream",
     "text": [
      "x = [0 1 2]\n",
      "np.exp(x) = [1.         2.71828183 7.3890561 ]\n",
      "np.sqrt(x) = [0.         1.         1.41421356]\n",
      "np.add(x) = [0 2 4]\n"
     ]
    }
   ],
   "source": [
    "x = np.arange(3)\n",
    "print('x =',x)\n",
    "print('np.exp(x) =',np.exp(x))\n",
    "print('np.sqrt(x) =',np.sqrt(x))\n",
    "print('np.add(x) =',np.add(x,x))"
   ]
  },
  {
   "cell_type": "markdown",
   "metadata": {},
   "source": [
    "Numpy 提供了大量的通用函数，详细列表请点击[这里](https://docs.scipy.org/doc/numpy/reference/routines.html#routines)"
   ]
  },
  {
   "cell_type": "markdown",
   "metadata": {},
   "source": [
    "### 广播\n",
    "\n",
    "广播是一种强有力的机制，通过它 NumPy 可以使不同大小的矩阵在一起进行数学计算。"
   ]
  },
  {
   "cell_type": "code",
   "execution_count": 30,
   "metadata": {
    "ExecuteTime": {
     "end_time": "2019-01-25T02:33:44.989619Z",
     "start_time": "2019-01-25T02:33:44.977651Z"
    },
    "inputHidden": false,
    "outputHidden": false
   },
   "outputs": [
    {
     "data": {
      "text/plain": [
       "array([[ 1.,  2.,  3.],\n",
       "       [11., 12., 13.],\n",
       "       [21., 22., 23.],\n",
       "       [31., 32., 33.]])"
      ]
     },
     "execution_count": 30,
     "metadata": {},
     "output_type": "execute_result"
    }
   ],
   "source": [
    "a = np.array([[ 0.0, 0.0, 0.0],\n",
    "               [10.0,10.0,10.0],\n",
    "               [20.0,20.0,20.0],\n",
    "               [30.0,30.0,30.0]])\n",
    "b = np.array([1.0,2.0,3.0])\n",
    "a + b"
   ]
  },
  {
   "cell_type": "markdown",
   "metadata": {},
   "source": [
    "想了解更多细节可以点击[这里](https://docs.scipy.org/doc/numpy/user/basics.broadcasting.html)"
   ]
  },
  {
   "cell_type": "markdown",
   "metadata": {},
   "source": [
    "### 参考资料\n",
    "\n",
    "- [Numpy 用户指南](https://docs.scipy.org/doc/numpy/user/index.html)"
   ]
  },
  {
   "cell_type": "code",
   "execution_count": null,
   "metadata": {},
   "outputs": [],
   "source": []
  }
 ],
 "metadata": {
  "kernel_info": {
   "name": "python3"
  },
  "kernelspec": {
   "display_name": "Python 3",
   "language": "python",
   "name": "python3"
  },
  "language_info": {
   "codemirror_mode": {
    "name": "ipython",
    "version": 3
   },
   "file_extension": ".py",
   "mimetype": "text/x-python",
   "name": "python",
   "nbconvert_exporter": "python",
   "pygments_lexer": "ipython3",
   "version": "3.7.1"
  },
  "nteract": {
   "version": "0.12.3"
  }
 },
 "nbformat": 4,
 "nbformat_minor": 4
}
