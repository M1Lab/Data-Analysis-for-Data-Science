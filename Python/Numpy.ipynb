{
 "cells": [
  {
   "cell_type": "markdown",
   "metadata": {},
   "source": [
    "## Numpy"
   ]
  },
  {
   "cell_type": "markdown",
   "metadata": {},
   "source": [
    "Numpy 是 Python 中用于科学计算的基本包。 它是一个 Python 库，提供多维数组对象、各种派生对象(如屏蔽数组和矩阵) ，以及用于数组快速操作的各种例程，包括数学、逻辑、形状操作、排序、选择、 i/o、离散傅立叶变换、基本线性代数、基本统计操作、随机模拟等等。"
   ]
  },
  {
   "cell_type": "markdown",
   "metadata": {},
   "source": [
    "### 版本"
   ]
  },
  {
   "cell_type": "code",
   "execution_count": 1,
   "metadata": {
    "ExecuteTime": {
     "end_time": "2019-05-22T10:20:08.661513Z",
     "start_time": "2019-05-22T10:20:08.585557Z"
    },
    "inputHidden": false,
    "outputHidden": false
   },
   "outputs": [
    {
     "data": {
      "text/plain": [
       "'1.15.4'"
      ]
     },
     "execution_count": 1,
     "metadata": {},
     "output_type": "execute_result"
    }
   ],
   "source": [
    "import numpy\n",
    "numpy.__version__"
   ]
  },
  {
   "cell_type": "markdown",
   "metadata": {},
   "source": [
    "### 别名\n",
    "遵循传统，使用`np`作为别名导入 NumPy ："
   ]
  },
  {
   "cell_type": "code",
   "execution_count": 2,
   "metadata": {
    "ExecuteTime": {
     "end_time": "2019-05-22T10:20:08.742136Z",
     "start_time": "2019-05-22T10:20:08.737931Z"
    },
    "inputHidden": false,
    "outputHidden": false
   },
   "outputs": [],
   "source": [
    "import numpy as np"
   ]
  },
  {
   "cell_type": "markdown",
   "metadata": {},
   "source": [
    "### 数组\n",
    "\n",
    "Numpy 包的核心是`ndarray`对象，封装了同类数据类型的 n 维数组，通常用别名`array`来表示。"
   ]
  },
  {
   "cell_type": "markdown",
   "metadata": {},
   "source": [
    "#### 属性\n",
    "\n",
    "每个`Numpy`数组都拥有如下属性：\n",
    "\n",
    "- `nidm`：数组维度\n",
    "- `shape`：维度大小\n",
    "- `size`：数组大小\n",
    "- `dtype`：数据类型\n",
    "- `itemsize`：元素字节大小, 以`bytes`为单位\n",
    "- `nbytes`：数组字节大小, 以`bytes`为单位"
   ]
  },
  {
   "cell_type": "code",
   "execution_count": 3,
   "metadata": {
    "ExecuteTime": {
     "end_time": "2019-05-22T10:20:09.007731Z",
     "start_time": "2019-05-22T10:20:08.996856Z"
    },
    "inputHidden": false,
    "outputHidden": false
   },
   "outputs": [
    {
     "name": "stdout",
     "output_type": "stream",
     "text": [
      "[[7 1 9]\n",
      " [2 2 9]\n",
      " [0 4 9]]\n",
      "\n",
      "x.ndim: 2\n",
      "x.shape: (3, 3)\n",
      "x.size: 9\n",
      "x.dtype: int64\n",
      "x.itemsize: 8\n",
      "x.nbytes: 72\n"
     ]
    }
   ],
   "source": [
    "# 创建一个3×3、由[0,10)均匀分布随机整数组成的数值\n",
    "x = (np.random.randint(0, 10, (3, 3)))\n",
    "print(x)\n",
    "print('\\nx.ndim:',x.ndim)\n",
    "print('x.shape:',x.shape)\n",
    "print('x.size:',x.size)\n",
    "print('x.dtype:',x.dtype)\n",
    "print('x.itemsize:',x.itemsize)\n",
    "print('x.nbytes:',x.nbytes)"
   ]
  },
  {
   "cell_type": "markdown",
   "metadata": {},
   "source": [
    "#### 利用列表(list)生成数组\n",
    "\n",
    "利用```nd.array```从 Pyhon 列表创建数值:"
   ]
  },
  {
   "cell_type": "code",
   "execution_count": 4,
   "metadata": {
    "ExecuteTime": {
     "end_time": "2019-05-22T10:20:09.124244Z",
     "start_time": "2019-05-22T10:20:09.117642Z"
    },
    "inputHidden": false,
    "outputHidden": false
   },
   "outputs": [
    {
     "data": {
      "text/plain": [
       "array([1, 2, 3, 4])"
      ]
     },
     "execution_count": 4,
     "metadata": {},
     "output_type": "execute_result"
    }
   ],
   "source": [
    "x = np.array([1,2,3,4])\n",
    "x"
   ]
  },
  {
   "cell_type": "markdown",
   "metadata": {},
   "source": [
    "不同于 Python 列表， Numpy 要求数组必须包含同一类型的数据。如果类型不匹配，NumPy 将会向上转换（如果可行）。"
   ]
  },
  {
   "cell_type": "code",
   "execution_count": 5,
   "metadata": {
    "ExecuteTime": {
     "end_time": "2019-05-22T10:20:09.295387Z",
     "start_time": "2019-05-22T10:20:09.288575Z"
    },
    "inputHidden": false,
    "outputHidden": false
   },
   "outputs": [
    {
     "data": {
      "text/plain": [
       "array([1., 2., 3., 4.])"
      ]
     },
     "execution_count": 5,
     "metadata": {},
     "output_type": "execute_result"
    }
   ],
   "source": [
    "x = np.array([1.0, 2, 3.0, 4])\n",
    "x"
   ]
  },
  {
   "cell_type": "markdown",
   "metadata": {},
   "source": [
    "如果希望明确设置数组的数据类型，可以用```dtype```变量："
   ]
  },
  {
   "cell_type": "code",
   "execution_count": 6,
   "metadata": {
    "ExecuteTime": {
     "end_time": "2019-05-22T10:20:09.415271Z",
     "start_time": "2019-05-22T10:20:09.408690Z"
    },
    "inputHidden": false,
    "outputHidden": false
   },
   "outputs": [
    {
     "data": {
      "text/plain": [
       "array([1., 2., 3., 4.], dtype=float32)"
      ]
     },
     "execution_count": 6,
     "metadata": {},
     "output_type": "execute_result"
    }
   ],
   "source": [
    "x = np.array([1, 2, 3, 4], dtype=np.float32)\n",
    "x"
   ]
  },
  {
   "cell_type": "markdown",
   "metadata": {},
   "source": [
    "构建多维数组："
   ]
  },
  {
   "cell_type": "code",
   "execution_count": 7,
   "metadata": {
    "ExecuteTime": {
     "end_time": "2019-05-22T10:20:09.540203Z",
     "start_time": "2019-05-22T10:20:09.533310Z"
    },
    "inputHidden": false,
    "outputHidden": false
   },
   "outputs": [
    {
     "data": {
      "text/plain": [
       "array([[1, 2, 3],\n",
       "       [4, 5, 6],\n",
       "       [7, 8, 9]])"
      ]
     },
     "execution_count": 7,
     "metadata": {},
     "output_type": "execute_result"
    }
   ],
   "source": [
    "x = np.array([[1, 2, 3], [4, 5, 6], [7, 8, 9]])\n",
    "x"
   ]
  },
  {
   "cell_type": "markdown",
   "metadata": {},
   "source": [
    "#### 利用```Numpy```内置方法创建数值\n",
    "\n",
    "`np.zeros()`:创建全 0 数值"
   ]
  },
  {
   "cell_type": "code",
   "execution_count": 8,
   "metadata": {
    "ExecuteTime": {
     "end_time": "2019-05-22T10:20:09.708440Z",
     "start_time": "2019-05-22T10:20:09.702764Z"
    },
    "inputHidden": false,
    "outputHidden": false
   },
   "outputs": [
    {
     "data": {
      "text/plain": [
       "array([0., 0., 0., 0., 0.])"
      ]
     },
     "execution_count": 8,
     "metadata": {},
     "output_type": "execute_result"
    }
   ],
   "source": [
    "# 创建一个长度为5的全0数组\n",
    "x = np.zeros(5)\n",
    "x"
   ]
  },
  {
   "cell_type": "markdown",
   "metadata": {},
   "source": [
    "`np.ones()`:创建全 1 数组"
   ]
  },
  {
   "cell_type": "code",
   "execution_count": 9,
   "metadata": {
    "ExecuteTime": {
     "end_time": "2019-05-22T10:20:09.838844Z",
     "start_time": "2019-05-22T10:20:09.833930Z"
    },
    "inputHidden": false,
    "outputHidden": false
   },
   "outputs": [
    {
     "data": {
      "text/plain": [
       "array([[1., 1., 1.],\n",
       "       [1., 1., 1.],\n",
       "       [1., 1., 1.]])"
      ]
     },
     "execution_count": 9,
     "metadata": {},
     "output_type": "execute_result"
    }
   ],
   "source": [
    "# 创建一个3*3的q全1矩阵\n",
    "x = np.ones((3,3), dtype=float)\n",
    "x"
   ]
  },
  {
   "cell_type": "markdown",
   "metadata": {},
   "source": [
    "`np.eye()`:创建一个单位矩阵"
   ]
  },
  {
   "cell_type": "code",
   "execution_count": 10,
   "metadata": {
    "ExecuteTime": {
     "end_time": "2019-05-22T10:20:09.970266Z",
     "start_time": "2019-05-22T10:20:09.957230Z"
    },
    "inputHidden": false,
    "outputHidden": false
   },
   "outputs": [
    {
     "data": {
      "text/plain": [
       "array([[1., 0., 0.],\n",
       "       [0., 1., 0.],\n",
       "       [0., 0., 1.]])"
      ]
     },
     "execution_count": 10,
     "metadata": {},
     "output_type": "execute_result"
    }
   ],
   "source": [
    "# 创建一个3*3的单位矩阵\n",
    "x = np.eye(3)\n",
    "x"
   ]
  },
  {
   "cell_type": "markdown",
   "metadata": {},
   "source": [
    "`np.full(shape, fill_value)`：创建一个维数为`shape`、值为`fill_value`的数组"
   ]
  },
  {
   "cell_type": "code",
   "execution_count": 11,
   "metadata": {
    "ExecuteTime": {
     "end_time": "2019-05-22T10:20:10.090198Z",
     "start_time": "2019-05-22T10:20:10.084470Z"
    },
    "inputHidden": false,
    "outputHidden": false
   },
   "outputs": [
    {
     "data": {
      "text/plain": [
       "array([[2., 2., 2.],\n",
       "       [2., 2., 2.],\n",
       "       [2., 2., 2.]])"
      ]
     },
     "execution_count": 11,
     "metadata": {},
     "output_type": "execute_result"
    }
   ],
   "source": [
    "# 创建一个维数为3*3、值为2.0的浮点数型数组\n",
    "x = np.full((3,3), fill_value=2.0)\n",
    "x"
   ]
  },
  {
   "cell_type": "markdown",
   "metadata": {},
   "source": [
    "序列数组：\n",
    "\n",
    "- `np.arange(start, stop, step)`：创建一个从`start`到`stop`,步长为`step`的序列数组。\n",
    "- `np.linspace(start, stop, num=50)`：创建一个从`start`到`stop`,元素个数为`num`的序列数组。"
   ]
  },
  {
   "cell_type": "code",
   "execution_count": 12,
   "metadata": {
    "ExecuteTime": {
     "end_time": "2019-05-22T10:20:10.206719Z",
     "start_time": "2019-05-22T10:20:10.200914Z"
    },
    "inputHidden": false,
    "outputHidden": false
   },
   "outputs": [
    {
     "data": {
      "text/plain": [
       "array([0, 2, 4, 6, 8])"
      ]
     },
     "execution_count": 12,
     "metadata": {},
     "output_type": "execute_result"
    }
   ],
   "source": [
    "# 创建一个从0到10,步长为2的序列数组\n",
    "x = np.arange(0, 10, 2)\n",
    "x"
   ]
  },
  {
   "cell_type": "code",
   "execution_count": 13,
   "metadata": {
    "ExecuteTime": {
     "end_time": "2019-05-22T10:20:10.214283Z",
     "start_time": "2019-05-22T10:20:10.209465Z"
    },
    "inputHidden": false,
    "outputHidden": false
   },
   "outputs": [
    {
     "data": {
      "text/plain": [
       "array([ 0. ,  2.5,  5. ,  7.5, 10. ])"
      ]
     },
     "execution_count": 13,
     "metadata": {},
     "output_type": "execute_result"
    }
   ],
   "source": [
    "# 创建一个从0到10,元素个数为5的序列数组\n",
    "x = np.linspace(0, 10, 5)\n",
    "x"
   ]
  },
  {
   "cell_type": "markdown",
   "metadata": {},
   "source": [
    "随机分布数组：\n",
    "\n",
    "- `np.random.random()`：创建一个由 0 ~ 1 均匀分布生成的随机数组成的数组\n",
    "- `np.random.normal(loc=0.0, scale=1.0, size=None)`：创建一个由均值为`loc`、方差为`scale`的正态分布生成的随机数组成的数组\n",
    "- `np.random.randint(low, high=None, size=None)`：创建一个由`low`~`high`均匀分布生成的随机整数组成的数值"
   ]
  },
  {
   "cell_type": "code",
   "execution_count": 14,
   "metadata": {
    "ExecuteTime": {
     "end_time": "2019-05-22T10:20:10.337409Z",
     "start_time": "2019-05-22T10:20:10.329511Z"
    },
    "inputHidden": false,
    "outputHidden": false
   },
   "outputs": [
    {
     "data": {
      "text/plain": [
       "array([[0.48575322, 0.72737388, 0.32180274],\n",
       "       [0.68450497, 0.37856702, 0.7614299 ],\n",
       "       [0.83093308, 0.66726084, 0.79841631]])"
      ]
     },
     "execution_count": 14,
     "metadata": {},
     "output_type": "execute_result"
    }
   ],
   "source": [
    "# 创建一个3×3、由0~1均匀分布随机数组成的数组\n",
    "x = np.random.random((3, 3))\n",
    "x"
   ]
  },
  {
   "cell_type": "code",
   "execution_count": 15,
   "metadata": {
    "ExecuteTime": {
     "end_time": "2019-05-22T10:20:10.346209Z",
     "start_time": "2019-05-22T10:20:10.340320Z"
    },
    "inputHidden": false,
    "outputHidden": false
   },
   "outputs": [
    {
     "data": {
      "text/plain": [
       "array([[-0.04566183,  0.72873581, -1.10870786],\n",
       "       [ 0.32082532,  1.78345795,  0.15090186],\n",
       "       [-0.48690445, -0.11890733,  1.85462935]])"
      ]
     },
     "execution_count": 15,
     "metadata": {},
     "output_type": "execute_result"
    }
   ],
   "source": [
    "# 创建一个3×3、由均值为0、方差为1的正态分布随机数组成的数组\n",
    "x = np.random.normal(0, 1, (3, 3))\n",
    "x"
   ]
  },
  {
   "cell_type": "code",
   "execution_count": 16,
   "metadata": {
    "ExecuteTime": {
     "end_time": "2019-05-22T10:20:10.386700Z",
     "start_time": "2019-05-22T10:20:10.378749Z"
    },
    "inputHidden": false,
    "outputHidden": false
   },
   "outputs": [
    {
     "data": {
      "text/plain": [
       "array([[5, 2, 2],\n",
       "       [7, 4, 3],\n",
       "       [6, 0, 5]])"
      ]
     },
     "execution_count": 16,
     "metadata": {},
     "output_type": "execute_result"
    }
   ],
   "source": [
    "# 创建一个3×3、由[0,10)均匀分布随机整数组成的数值\n",
    "x = (np.random.randint(0, 10, (3, 3)))\n",
    "x"
   ]
  },
  {
   "cell_type": "markdown",
   "metadata": {},
   "source": [
    "### 数组操作\n",
    "\n",
    "#### 基本运算\n",
    "\n",
    "数组上的运算与 Python 类似，支持 Python 原生的算术运算符，标准的加、减、乘、除都可以使用。"
   ]
  },
  {
   "cell_type": "code",
   "execution_count": 17,
   "metadata": {
    "ExecuteTime": {
     "end_time": "2019-05-22T10:20:10.511355Z",
     "start_time": "2019-05-22T10:20:10.496250Z"
    },
    "inputHidden": false,
    "outputHidden": false
   },
   "outputs": [
    {
     "name": "stdout",
     "output_type": "stream",
     "text": [
      "x = [0 1 2 3]\n",
      "x + 5 = [5 6 7 8]\n",
      "x * 2 = [0 2 4 6]\n",
      "x / 2 = [0.  0.5 1.  1.5]\n",
      "x // 2 = [0 0 1 1]\n",
      "-x =  [ 0 -1 -2 -3]\n",
      "x ** 2 =  [0 1 4 9]\n",
      "x % 2 =  [0 1 0 1]\n"
     ]
    }
   ],
   "source": [
    "x = np.arange(4)\n",
    "print(\"x =\", x)\n",
    "print(\"x + 5 =\", x + 5)\n",
    "print(\"x * 2 =\", x * 2)\n",
    "print(\"x / 2 =\", x / 2)\n",
    "print(\"x // 2 =\", x // 2)\n",
    "print(\"-x = \", -x)\n",
    "print(\"x ** 2 = \", x ** 2)\n",
    "print(\"x % 2 = \", x % 2)"
   ]
  },
  {
   "cell_type": "markdown",
   "metadata": {},
   "source": [
    "运算符与通用函数的对应关系如下表所示：\n",
    "\n",
    "| 运算符 | 对应的通用函数  |        描述        |\n",
    "| :----: | :-------------: | :----------------: |\n",
    "|  `+`   |     np.add      |      加法运算      |\n",
    "|  `-`   |   np.subtract   |      减法运算      |\n",
    "|  `-`   |   np.negative   |      负数运算      |\n",
    "|   *    |   np.multipy    |      乘法运算      |\n",
    "|   /    |    np.divide    |      除法运算      |\n",
    "|   //   | np.floor_divide |    取商除法运算    |\n",
    "|   **   |    np.power     |      指数运算      |\n",
    "|   &    |     np.mod      | 取模(余数)除法运算 |"
   ]
  },
  {
   "cell_type": "markdown",
   "metadata": {},
   "source": [
    "与许多矩阵语言不同，乘法运算符`*`在 Numpy 数组中按元素操作，矩阵运算可以使用`@`操作符(在 python 3.5中)或`dot`函数执行。"
   ]
  },
  {
   "cell_type": "code",
   "execution_count": 18,
   "metadata": {
    "ExecuteTime": {
     "end_time": "2019-05-22T10:20:10.749278Z",
     "start_time": "2019-05-22T10:20:10.731846Z"
    }
   },
   "outputs": [
    {
     "name": "stdout",
     "output_type": "stream",
     "text": [
      "A * B =\n",
      " [[2 0]\n",
      " [0 4]]\n",
      "\n",
      "A @ B =\n",
      " [[5 4]\n",
      " [3 4]]\n",
      "\n",
      "A.dot(B) =\n",
      " [[5 4]\n",
      " [3 4]]\n"
     ]
    }
   ],
   "source": [
    "A = np.array( [[1,1],\n",
    "            [0,1]] )\n",
    "B = np.array( [[2,0],\n",
    "            [3,4]] )\n",
    "# 元素操作\n",
    "print('A * B =\\n',A * B)\n",
    "\n",
    "# 矩阵运算\n",
    "print('\\nA @ B =\\n',A @ B)\n",
    "\n",
    "# 另一种矩阵运算\n",
    "print('\\nA.dot(B) =\\n', A.dot(B))"
   ]
  },
  {
   "cell_type": "markdown",
   "metadata": {},
   "source": [
    "#### 索引与切片"
   ]
  },
  {
   "cell_type": "code",
   "execution_count": 19,
   "metadata": {
    "ExecuteTime": {
     "end_time": "2019-05-22T10:20:10.866374Z",
     "start_time": "2019-05-22T10:20:10.855045Z"
    },
    "inputHidden": false,
    "outputHidden": false
   },
   "outputs": [
    {
     "name": "stdout",
     "output_type": "stream",
     "text": [
      "[[8 0 4]\n",
      " [0 5 0]\n",
      " [4 1 9]]\n",
      "\n",
      "x[1,1] = 5\n",
      "x[1:,1:] =\n",
      " [[5 0]\n",
      " [1 9]]\n"
     ]
    }
   ],
   "source": [
    "# 创建一个3×3、由[0,10)均匀分布随机整数组成的数值\n",
    "x = (np.random.randint(0, 10, (3, 3)))\n",
    "print(x)\n",
    "\n",
    "# 索引\n",
    "print('\\nx[1,1] =',x[1,1])\n",
    "\n",
    "# 切片\n",
    "print('x[1:,1:] =\\n',x[1:,1:])"
   ]
  },
  {
   "cell_type": "markdown",
   "metadata": {},
   "source": [
    "#### 排序\n",
    "\n",
    "- np.sort(a,  axis=1)：`a`表示要排序的数值，`axis=0`表示按列排序(`axis=1`表示按行排序)"
   ]
  },
  {
   "cell_type": "code",
   "execution_count": 20,
   "metadata": {
    "ExecuteTime": {
     "end_time": "2019-05-22T10:20:10.987019Z",
     "start_time": "2019-05-22T10:20:10.976822Z"
    },
    "inputHidden": false,
    "outputHidden": false
   },
   "outputs": [
    {
     "name": "stdout",
     "output_type": "stream",
     "text": [
      "x =\n",
      " [[1 8 8 9 4 5]\n",
      " [7 0 4 7 3 5]\n",
      " [1 5 3 2 0 3]\n",
      " [8 4 3 2 2 3]]\n",
      "\n",
      "np.sort(x, axis=0) =\n",
      " [[1 0 3 2 0 3]\n",
      " [1 4 3 2 2 3]\n",
      " [7 5 4 7 3 5]\n",
      " [8 8 8 9 4 5]]\n",
      "\n",
      "np.sort(x, axis=1) =\n",
      " [[1 4 5 8 8 9]\n",
      " [0 3 4 5 7 7]\n",
      " [0 1 2 3 3 5]\n",
      " [2 2 3 3 4 8]]\n"
     ]
    }
   ],
   "source": [
    "# 创建一个4×6、由[0,10)均匀分布随机整数组成的数值\n",
    "x = (np.random.randint(0, 10, (4, 6)))\n",
    "print('x =\\n',x)\n",
    "\n",
    "# 按列排序\n",
    "print('\\nnp.sort(x, axis=0) =\\n',np.sort(x, axis=0))\n",
    "\n",
    "# 按列排序\n",
    "print('\\nnp.sort(x, axis=1) =\\n',np.sort(x, axis=1))"
   ]
  },
  {
   "cell_type": "markdown",
   "metadata": {},
   "source": [
    "#### 变形\n",
    "\n",
    "- ```reshape()```方法"
   ]
  },
  {
   "cell_type": "code",
   "execution_count": 21,
   "metadata": {
    "ExecuteTime": {
     "end_time": "2019-05-22T10:20:11.111966Z",
     "start_time": "2019-05-22T10:20:11.095748Z"
    },
    "inputHidden": false,
    "outputHidden": false
   },
   "outputs": [
    {
     "name": "stdout",
     "output_type": "stream",
     "text": [
      "x =\n",
      " [[3 9 2]\n",
      " [8 2 0]\n",
      " [8 4 9]]\n",
      "\n",
      "通过变形获得的行向量:\n",
      " [[3 9 2 8 2 0 8 4 9]]\n",
      "通过变形获得的列向量:\n",
      " [[3]\n",
      " [9]\n",
      " [2]\n",
      " [8]\n",
      " [2]\n",
      " [0]\n",
      " [8]\n",
      " [4]\n",
      " [9]]\n"
     ]
    }
   ],
   "source": [
    "# 创建一个3×3、由[0,10)均匀分布随机整数组成的数值\n",
    "x = (np.random.randint(0, 10, (3, 3)))\n",
    "print('x =\\n',x)\n",
    "print('\\n通过变形获得的行向量:\\n', x.reshape((1, 9)))\n",
    "print('通过变形获得的列向量:\\n', x.reshape((9, 1)))"
   ]
  },
  {
   "cell_type": "markdown",
   "metadata": {},
   "source": [
    "\n",
    "#### 转置"
   ]
  },
  {
   "cell_type": "code",
   "execution_count": 22,
   "metadata": {
    "ExecuteTime": {
     "end_time": "2019-05-22T10:20:11.238003Z",
     "start_time": "2019-05-22T10:20:11.227315Z"
    },
    "inputHidden": false,
    "outputHidden": false
   },
   "outputs": [
    {
     "name": "stdout",
     "output_type": "stream",
     "text": [
      "x =\n",
      " [[3 2 3]\n",
      " [8 4 9]]\n",
      "\n",
      "x.T =\n",
      " [[3 8]\n",
      " [2 4]\n",
      " [3 9]]\n"
     ]
    }
   ],
   "source": [
    "x = (np.random.randint(0, 10, (2, 3)))\n",
    "print('x =\\n',x)\n",
    "print('\\nx.T =\\n',x.T)"
   ]
  },
  {
   "cell_type": "markdown",
   "metadata": {},
   "source": [
    "#### 拼接\n",
    "\n",
    "- ```np.concatenate((a1, a2, ...), axis=0)```：按垂直(水平`axis=1`)拼接数组元组`(a1, a2, ...)`或数值列表`[a1, a2, ...]`\n",
    "- ```np.vstack((a1, a2, ...))```：按垂直方向拼接数组元组`(a1, a2, ...)`或数值列表`[a1, a2, ...]`\n",
    "- ```np.hstack((a1, a2, ...))```：按水平方向拼接数组元组`(a1, a2, ...)`或数值列表`[a1, a2, ...]`"
   ]
  },
  {
   "cell_type": "code",
   "execution_count": 23,
   "metadata": {
    "ExecuteTime": {
     "end_time": "2019-05-22T10:20:11.351712Z",
     "start_time": "2019-05-22T10:20:11.345635Z"
    },
    "inputHidden": false,
    "outputHidden": false
   },
   "outputs": [
    {
     "data": {
      "text/plain": [
       "array([[1, 2, 3, 4],\n",
       "       [1, 2, 3, 4]])"
      ]
     },
     "execution_count": 23,
     "metadata": {},
     "output_type": "execute_result"
    }
   ],
   "source": [
    "x = np.array([[1,2,3,4],\n",
    "                  [1,2,3,4]])\n",
    "x"
   ]
  },
  {
   "cell_type": "code",
   "execution_count": 24,
   "metadata": {
    "ExecuteTime": {
     "end_time": "2019-05-22T10:20:11.362223Z",
     "start_time": "2019-05-22T10:20:11.355090Z"
    },
    "inputHidden": false,
    "outputHidden": false
   },
   "outputs": [
    {
     "name": "stdout",
     "output_type": "stream",
     "text": [
      "通过np.concatenate()方法拼接:\n",
      " [[1 2 3 4]\n",
      " [1 2 3 4]\n",
      " [1 2 3 4]\n",
      " [1 2 3 4]]\n",
      "通过np.vstack()方法拼接:\n",
      " [[1 2 3 4]\n",
      " [1 2 3 4]\n",
      " [1 2 3 4]\n",
      " [1 2 3 4]]\n"
     ]
    }
   ],
   "source": [
    "# 按垂直方向拼接数组x和x\n",
    "print('通过np.concatenate()方法拼接:\\n',np.concatenate((x,x)))\n",
    "print('通过np.vstack()方法拼接:\\n',np.vstack((x,x)))"
   ]
  },
  {
   "cell_type": "code",
   "execution_count": 25,
   "metadata": {
    "ExecuteTime": {
     "end_time": "2019-05-22T10:20:11.372488Z",
     "start_time": "2019-05-22T10:20:11.365609Z"
    },
    "inputHidden": false,
    "outputHidden": false
   },
   "outputs": [
    {
     "name": "stdout",
     "output_type": "stream",
     "text": [
      "通过np.concatenate()方法拼接:\n",
      " [[1 2 3 4 1 2 3 4]\n",
      " [1 2 3 4 1 2 3 4]]\n",
      "通过np.vstack()方法拼接:\n",
      " [[1 2 3 4 1 2 3 4]\n",
      " [1 2 3 4 1 2 3 4]]\n"
     ]
    }
   ],
   "source": [
    "# 按水平方向拼接数值x和x\n",
    "print('通过np.concatenate()方法拼接:\\n',np.concatenate((x,x),axis=1))\n",
    "print('通过np.vstack()方法拼接:\\n',np.hstack((x,x)))"
   ]
  },
  {
   "cell_type": "markdown",
   "metadata": {},
   "source": [
    "#### 拆分\n",
    "\n",
    "- `np.split(ary, indices_or_sections, axis=0)`：`ary`为要拆分的数值，`indices_or_sections`为拆分节点序列，`axis=0`表示按竖直方向拆分(`axis=1`表示按竖直方向拆分)\n",
    "- `np.hsplit()`：按水平方向拆分\n",
    "- `np.vsplit()`：按竖直方向拆分"
   ]
  },
  {
   "cell_type": "markdown",
   "metadata": {},
   "source": [
    "一维数组："
   ]
  },
  {
   "cell_type": "code",
   "execution_count": 26,
   "metadata": {
    "ExecuteTime": {
     "end_time": "2019-05-22T10:20:11.595324Z",
     "start_time": "2019-05-22T10:20:11.589409Z"
    },
    "inputHidden": false,
    "outputHidden": false
   },
   "outputs": [
    {
     "name": "stdout",
     "output_type": "stream",
     "text": [
      "[0 1 2 3 4 5 6 7 8]\n",
      "[array([0, 1, 2]), array([3, 4, 5]), array([6, 7, 8])]\n",
      "[array([0, 1]), array([2, 3, 4]), array([5, 6]), array([7, 8])]\n"
     ]
    }
   ],
   "source": [
    "x = np.arange(9)\n",
    "print(x)\n",
    "print(np.split(x,3))\n",
    "print(np.split(x,[2,5,7]))"
   ]
  },
  {
   "cell_type": "markdown",
   "metadata": {},
   "source": [
    "二维数组："
   ]
  },
  {
   "cell_type": "code",
   "execution_count": 27,
   "metadata": {
    "ExecuteTime": {
     "end_time": "2019-05-22T10:20:11.713962Z",
     "start_time": "2019-05-22T10:20:11.707708Z"
    },
    "inputHidden": false,
    "outputHidden": false
   },
   "outputs": [
    {
     "name": "stdout",
     "output_type": "stream",
     "text": [
      "通过np.split()方法拆分:\n",
      " [array([[9, 3, 7]]), array([[1, 9, 0]]), array([[8, 8, 9]])]\n",
      "通过np.hsplit()方法拆分:\n",
      " [array([[9, 3, 7]]), array([[1, 9, 0]]), array([[8, 8, 9]])]\n"
     ]
    }
   ],
   "source": [
    "# 按竖直方向拆分\n",
    "y = (np.random.randint(0, 10, (3, 3)))\n",
    "print('通过np.split()方法拆分:\\n',np.split(y, 3))\n",
    "print('通过np.hsplit()方法拆分:\\n',np.vsplit(y, 3))"
   ]
  },
  {
   "cell_type": "code",
   "execution_count": 28,
   "metadata": {
    "ExecuteTime": {
     "end_time": "2019-05-22T10:20:11.728339Z",
     "start_time": "2019-05-22T10:20:11.716357Z"
    },
    "inputHidden": false,
    "outputHidden": false
   },
   "outputs": [
    {
     "name": "stdout",
     "output_type": "stream",
     "text": [
      "通过np.split()方法拆分:\n",
      " [array([[9],\n",
      "       [1],\n",
      "       [8]]), array([[3],\n",
      "       [9],\n",
      "       [8]]), array([[7],\n",
      "       [0],\n",
      "       [9]])]\n",
      "通过np.hsplit()方法拆分:\n",
      " [array([[9],\n",
      "       [1],\n",
      "       [8]]), array([[3],\n",
      "       [9],\n",
      "       [8]]), array([[7],\n",
      "       [0],\n",
      "       [9]])]\n"
     ]
    }
   ],
   "source": [
    "# 按水平方向拆分\n",
    "print('通过np.split()方法拆分:\\n',np.split(y, 3, axis=1))\n",
    "print('通过np.hsplit()方法拆分:\\n',np.hsplit(y, 3))"
   ]
  },
  {
   "cell_type": "markdown",
   "metadata": {},
   "source": [
    "### 通用函数\n",
    "\n",
    "Numpy 提供熟悉的数学函数，例如`sin`，`cos`和`exp`等，在 NumPy 中，这些被称为“通用函数”（`ufunc`）。"
   ]
  },
  {
   "cell_type": "code",
   "execution_count": 29,
   "metadata": {
    "ExecuteTime": {
     "end_time": "2019-05-22T10:20:11.854066Z",
     "start_time": "2019-05-22T10:20:11.843012Z"
    },
    "inputHidden": false,
    "outputHidden": false
   },
   "outputs": [
    {
     "name": "stdout",
     "output_type": "stream",
     "text": [
      "x = [0 1 2]\n",
      "np.exp(x) = [1.         2.71828183 7.3890561 ]\n",
      "np.sqrt(x) = [0.         1.         1.41421356]\n",
      "np.add(x) = [0 2 4]\n"
     ]
    }
   ],
   "source": [
    "x = np.arange(3)\n",
    "print('x =',x)\n",
    "print('np.exp(x) =',np.exp(x))\n",
    "print('np.sqrt(x) =',np.sqrt(x))\n",
    "print('np.add(x) =',np.add(x,x))"
   ]
  },
  {
   "cell_type": "markdown",
   "metadata": {},
   "source": [
    "Numpy 提供了大量的通用函数，详细列表请点击[这里](https://docs.scipy.org/doc/numpy/reference/routines.html#routines)"
   ]
  },
  {
   "cell_type": "markdown",
   "metadata": {},
   "source": [
    "### 广播\n",
    "\n",
    "广播是一种强有力的机制，通过它 NumPy 可以使不同大小的矩阵在一起进行数学计算。"
   ]
  },
  {
   "cell_type": "code",
   "execution_count": 30,
   "metadata": {
    "ExecuteTime": {
     "end_time": "2019-05-22T10:20:12.147890Z",
     "start_time": "2019-05-22T10:20:12.137223Z"
    },
    "inputHidden": false,
    "outputHidden": false
   },
   "outputs": [
    {
     "data": {
      "text/plain": [
       "array([[ 1.,  2.,  3.],\n",
       "       [11., 12., 13.],\n",
       "       [21., 22., 23.],\n",
       "       [31., 32., 33.]])"
      ]
     },
     "execution_count": 30,
     "metadata": {},
     "output_type": "execute_result"
    }
   ],
   "source": [
    "a = np.array([[ 0.0, 0.0, 0.0],\n",
    "               [10.0,10.0,10.0],\n",
    "               [20.0,20.0,20.0],\n",
    "               [30.0,30.0,30.0]])\n",
    "b = np.array([1.0,2.0,3.0])\n",
    "a + b"
   ]
  },
  {
   "cell_type": "markdown",
   "metadata": {},
   "source": [
    "想了解更多细节可以点击[这里](https://docs.scipy.org/doc/numpy/user/basics.broadcasting.html)"
   ]
  },
  {
   "cell_type": "markdown",
   "metadata": {},
   "source": [
    "### 参考资料\n",
    "\n",
    "* [Numpy 官方文档](https://docs.scipy.org/doc/numpy/user/index.html)"
   ]
  }
 ],
 "metadata": {
  "kernel_info": {
   "name": "python3"
  },
  "kernelspec": {
   "display_name": "Python 3",
   "language": "python",
   "name": "python3"
  },
  "language_info": {
   "codemirror_mode": {
    "name": "ipython",
    "version": 3
   },
   "file_extension": ".py",
   "mimetype": "text/x-python",
   "name": "python",
   "nbconvert_exporter": "python",
   "pygments_lexer": "ipython3",
   "version": "3.7.1"
  },
  "nteract": {
   "version": "0.12.3"
  },
  "toc": {
   "base_numbering": 1,
   "nav_menu": {},
   "number_sections": true,
   "sideBar": true,
   "skip_h1_title": false,
   "title_cell": "Table of Contents",
   "title_sidebar": "Contents",
   "toc_cell": false,
   "toc_position": {},
   "toc_section_display": true,
   "toc_window_display": false
  },
  "varInspector": {
   "cols": {
    "lenName": 16,
    "lenType": 16,
    "lenVar": 40
   },
   "kernels_config": {
    "python": {
     "delete_cmd_postfix": "",
     "delete_cmd_prefix": "del ",
     "library": "var_list.py",
     "varRefreshCmd": "print(var_dic_list())"
    },
    "r": {
     "delete_cmd_postfix": ") ",
     "delete_cmd_prefix": "rm(",
     "library": "var_list.r",
     "varRefreshCmd": "cat(var_dic_list()) "
    }
   },
   "types_to_exclude": [
    "module",
    "function",
    "builtin_function_or_method",
    "instance",
    "_Feature"
   ],
   "window_display": false
  }
 },
 "nbformat": 4,
 "nbformat_minor": 4
}
